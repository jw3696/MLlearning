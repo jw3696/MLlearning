{
 "cells": [
  {
   "cell_type": "code",
   "execution_count": 114,
   "metadata": {},
   "outputs": [],
   "source": [
    "import scipy.io as sio \n",
    "import numpy as np\n",
    "import pandas as pd\n",
    "from scipy import stats\n",
    "import tensorflow as tf\n",
    "from sklearn.model_selection import train_test_split\n",
    "from keras.models import Model, load_model\n",
    "from keras.layers import Input, Dense\n",
    "from keras.callbacks import ModelCheckpoint, TensorBoard\n",
    "from keras import regularizers\n",
    "from keras.optimizers import adam, SGD, Adagrad, RMSprop\n",
    "dat = sio.loadmat('satimage-2.mat')\n",
    "df = pd.DataFrame(np.hstack((dat['X'], dat['y'])))"
   ]
  },
  {
   "cell_type": "code",
   "execution_count": 106,
   "metadata": {},
   "outputs": [
    {
     "data": {
      "text/plain": [
       "36\n",
       "0.0    5732\n",
       "1.0      71\n",
       "Name: 0, dtype: int64"
      ]
     },
     "execution_count": 106,
     "metadata": {},
     "output_type": "execute_result"
    }
   ],
   "source": [
    "df.groupby(36).count()[0]\n",
    "# df.shape\n",
    "#df.isnull().values.any()"
   ]
  },
  {
   "cell_type": "code",
   "execution_count": 107,
   "metadata": {},
   "outputs": [],
   "source": [
    "df = df.rename(columns={36: 'result'})"
   ]
  },
  {
   "cell_type": "code",
   "execution_count": 108,
   "metadata": {},
   "outputs": [],
   "source": [
    "X_train, X_test = train_test_split(df, test_size=0.2, random_state=42)\n",
    "X_train = X_train[X_train.result == 0].drop(['result'], axis=1)\n",
    "y_test = X_test['result']\n",
    "X_test = X_test.drop(['result'], axis=1)\n",
    "\n",
    "X_train = X_train.values\n",
    "X_test = X_test.values"
   ]
  },
  {
   "cell_type": "code",
   "execution_count": 109,
   "metadata": {},
   "outputs": [
    {
     "data": {
      "text/plain": [
       "array([[ 67.,  84.,  97., ...,  98., 106.,  91.],\n",
       "       [ 57.,  56.,  82., ...,  57.,  79.,  70.],\n",
       "       [ 97., 115., 124., ...,  87.,  96.,  74.],\n",
       "       ...,\n",
       "       [ 74.,  88.,  97., ...,  87.,  87.,  70.],\n",
       "       [ 56.,  53.,  73., ...,  53.,  74.,  69.],\n",
       "       [ 60.,  94., 102., ...,  87., 104.,  87.]])"
      ]
     },
     "execution_count": 109,
     "metadata": {},
     "output_type": "execute_result"
    }
   ],
   "source": [
    "X_test"
   ]
  },
  {
   "cell_type": "code",
   "execution_count": 115,
   "metadata": {},
   "outputs": [],
   "source": [
    "input_dim = X_train.shape[1]\n",
    "encoding_dim = 17\n",
    "input_layer = Input(shape=(input_dim, ))\n",
    "encoder = Dense(encoding_dim, activation=\"tanh\")(input_layer)\n",
    "encoder = Dense(int(encoding_dim / 2), activation=\"relu\")(encoder)\n",
    "decoder = Dense(int(encoding_dim / 2), activation='tanh')(encoder)\n",
    "decoder = Dense(input_dim, activation='relu')(decoder)\n",
    "autoencoder = Model(inputs=input_layer, outputs=decoder)"
   ]
  },
  {
   "cell_type": "code",
   "execution_count": 122,
   "metadata": {},
   "outputs": [
    {
     "name": "stdout",
     "output_type": "stream",
     "text": [
      "Train on 4585 samples, validate on 1161 samples\n",
      "Epoch 1/100\n",
      "4585/4585 [==============================] - 1s 269us/step - loss: 4399.4123 - acc: 0.1080 - val_loss: 4180.1929 - val_acc: 0.1283\n",
      "Epoch 2/100\n",
      "4585/4585 [==============================] - 0s 73us/step - loss: 4129.5545 - acc: 0.1080 - val_loss: 4000.2087 - val_acc: 0.1283\n",
      "Epoch 3/100\n",
      "4585/4585 [==============================] - 0s 67us/step - loss: 3981.5114 - acc: 0.1080 - val_loss: 3879.1475 - val_acc: 0.1283\n",
      "Epoch 4/100\n",
      "4585/4585 [==============================] - 0s 72us/step - loss: 3875.5231 - acc: 0.1080 - val_loss: 3788.1744 - val_acc: 0.1283\n",
      "Epoch 5/100\n",
      "4585/4585 [==============================] - 0s 67us/step - loss: 3793.4918 - acc: 0.1080 - val_loss: 3715.7225 - val_acc: 0.1283\n",
      "Epoch 6/100\n",
      "4585/4585 [==============================] - 0s 74us/step - loss: 3727.0039 - acc: 0.1080 - val_loss: 3656.1765 - val_acc: 0.1283\n",
      "Epoch 7/100\n",
      "4585/4585 [==============================] - 0s 65us/step - loss: 3671.6872 - acc: 0.1080 - val_loss: 3606.0951 - val_acc: 0.1283\n",
      "Epoch 8/100\n",
      "4585/4585 [==============================] - 0s 69us/step - loss: 3624.7501 - acc: 0.1080 - val_loss: 3563.2431 - val_acc: 0.1283\n",
      "Epoch 9/100\n",
      "4585/4585 [==============================] - 0s 67us/step - loss: 3584.3162 - acc: 0.1080 - val_loss: 3526.2766 - val_acc: 0.1283\n",
      "Epoch 10/100\n",
      "4585/4585 [==============================] - 0s 77us/step - loss: 3549.2328 - acc: 0.1080 - val_loss: 3493.9798 - val_acc: 0.1283\n",
      "Epoch 11/100\n",
      "4585/4585 [==============================] - 0s 71us/step - loss: 3518.4442 - acc: 0.1080 - val_loss: 3465.5890 - val_acc: 0.1283\n",
      "Epoch 12/100\n",
      "4585/4585 [==============================] - 0s 68us/step - loss: 3491.2665 - acc: 0.1080 - val_loss: 3440.4373 - val_acc: 0.1283\n",
      "Epoch 13/100\n",
      "4585/4585 [==============================] - 1s 146us/step - loss: 3467.1021 - acc: 0.1080 - val_loss: 3418.0629 - val_acc: 0.1283\n",
      "Epoch 14/100\n",
      "4585/4585 [==============================] - 0s 79us/step - loss: 3445.5362 - acc: 0.1080 - val_loss: 3398.0235 - val_acc: 0.1283\n",
      "Epoch 15/100\n",
      "4585/4585 [==============================] - 0s 68us/step - loss: 3426.1648 - acc: 0.1080 - val_loss: 3380.0091 - val_acc: 0.1283\n",
      "Epoch 16/100\n",
      "4585/4585 [==============================] - 1s 119us/step - loss: 3408.7046 - acc: 0.1080 - val_loss: 3363.7462 - val_acc: 0.1283\n",
      "Epoch 17/100\n",
      "4585/4585 [==============================] - 1s 141us/step - loss: 3392.9067 - acc: 0.1080 - val_loss: 3349.0785 - val_acc: 0.1283\n",
      "Epoch 18/100\n",
      "4585/4585 [==============================] - 0s 61us/step - loss: 3378.6173 - acc: 0.1080 - val_loss: 3335.7957 - val_acc: 0.1283\n",
      "Epoch 19/100\n",
      "4585/4585 [==============================] - 0s 68us/step - loss: 3365.6529 - acc: 0.1080 - val_loss: 3323.6978 - val_acc: 0.1283\n",
      "Epoch 20/100\n",
      "4585/4585 [==============================] - 0s 65us/step - loss: 3353.8209 - acc: 0.1080 - val_loss: 3312.6948 - val_acc: 0.1283\n",
      "Epoch 21/100\n",
      "4585/4585 [==============================] - 0s 65us/step - loss: 3343.0343 - acc: 0.1080 - val_loss: 3302.6514 - val_acc: 0.1283\n",
      "Epoch 22/100\n",
      "4585/4585 [==============================] - 0s 66us/step - loss: 3333.1687 - acc: 0.1080 - val_loss: 3293.4662 - val_acc: 0.1283\n",
      "Epoch 23/100\n",
      "4585/4585 [==============================] - 0s 65us/step - loss: 3324.1284 - acc: 0.1080 - val_loss: 3285.0599 - val_acc: 0.1283\n",
      "Epoch 24/100\n",
      "4585/4585 [==============================] - 0s 65us/step - loss: 3315.8391 - acc: 0.1080 - val_loss: 3277.3498 - val_acc: 0.1283\n",
      "Epoch 25/100\n",
      "4585/4585 [==============================] - 0s 65us/step - loss: 3308.2203 - acc: 0.1080 - val_loss: 3270.2270 - val_acc: 0.1283\n",
      "Epoch 26/100\n",
      "4585/4585 [==============================] - 0s 66us/step - loss: 3301.1711 - acc: 0.1080 - val_loss: 3263.7005 - val_acc: 0.1283\n",
      "Epoch 27/100\n",
      "4585/4585 [==============================] - 0s 68us/step - loss: 3294.6982 - acc: 0.1080 - val_loss: 3257.6770 - val_acc: 0.1283\n",
      "Epoch 28/100\n",
      "4585/4585 [==============================] - 0s 66us/step - loss: 3288.7149 - acc: 0.1080 - val_loss: 3252.1140 - val_acc: 0.1283\n",
      "Epoch 29/100\n",
      "4585/4585 [==============================] - 0s 66us/step - loss: 3283.1782 - acc: 0.1080 - val_loss: 3246.9746 - val_acc: 0.1283\n",
      "Epoch 30/100\n",
      "4585/4585 [==============================] - 0s 69us/step - loss: 3278.0532 - acc: 0.1080 - val_loss: 3242.2300 - val_acc: 0.1283\n",
      "Epoch 31/100\n",
      "4585/4585 [==============================] - 0s 66us/step - loss: 3273.3145 - acc: 0.1080 - val_loss: 3237.8614 - val_acc: 0.1283\n",
      "Epoch 32/100\n",
      "4585/4585 [==============================] - 0s 66us/step - loss: 3268.9404 - acc: 0.1080 - val_loss: 3233.7879 - val_acc: 0.1283\n",
      "Epoch 33/100\n",
      "4585/4585 [==============================] - 0s 67us/step - loss: 3264.8575 - acc: 0.1080 - val_loss: 3230.0202 - val_acc: 0.1283\n",
      "Epoch 34/100\n",
      "4585/4585 [==============================] - 0s 71us/step - loss: 3261.0729 - acc: 0.1080 - val_loss: 3226.5324 - val_acc: 0.1283\n",
      "Epoch 35/100\n",
      "4585/4585 [==============================] - 0s 66us/step - loss: 3257.5631 - acc: 0.1080 - val_loss: 3223.2958 - val_acc: 0.1283\n",
      "Epoch 36/100\n",
      "4585/4585 [==============================] - 0s 64us/step - loss: 3254.3000 - acc: 0.1080 - val_loss: 3220.2848 - val_acc: 0.1283\n",
      "Epoch 37/100\n",
      "4585/4585 [==============================] - 0s 64us/step - loss: 3251.2577 - acc: 0.1080 - val_loss: 3217.4794 - val_acc: 0.1283\n",
      "Epoch 38/100\n",
      "4585/4585 [==============================] - 0s 64us/step - loss: 3248.4185 - acc: 0.1080 - val_loss: 3214.8760 - val_acc: 0.1283\n",
      "Epoch 39/100\n",
      "4585/4585 [==============================] - 0s 58us/step - loss: 3245.7785 - acc: 0.1080 - val_loss: 3212.4423 - val_acc: 0.1283\n",
      "Epoch 40/100\n",
      "4585/4585 [==============================] - 0s 58us/step - loss: 3243.3062 - acc: 0.1080 - val_loss: 3210.1886 - val_acc: 0.1283\n",
      "Epoch 41/100\n",
      "4585/4585 [==============================] - 0s 59us/step - loss: 3241.0116 - acc: 0.1080 - val_loss: 3208.0837 - val_acc: 0.1283\n",
      "Epoch 42/100\n",
      "4585/4585 [==============================] - 0s 58us/step - loss: 3238.8652 - acc: 0.1080 - val_loss: 3206.1242 - val_acc: 0.1283\n",
      "Epoch 43/100\n",
      "4585/4585 [==============================] - 0s 58us/step - loss: 3236.8615 - acc: 0.1080 - val_loss: 3204.2991 - val_acc: 0.1283\n",
      "Epoch 44/100\n",
      "4585/4585 [==============================] - 0s 58us/step - loss: 3234.9927 - acc: 0.1080 - val_loss: 3202.5956 - val_acc: 0.1283\n",
      "Epoch 45/100\n",
      "4585/4585 [==============================] - 0s 58us/step - loss: 3233.2438 - acc: 0.1080 - val_loss: 3200.9992 - val_acc: 0.1283\n",
      "Epoch 46/100\n",
      "4585/4585 [==============================] - 0s 58us/step - loss: 3231.6021 - acc: 0.1080 - val_loss: 3199.5102 - val_acc: 0.1283\n",
      "Epoch 47/100\n",
      "4585/4585 [==============================] - 0s 57us/step - loss: 3230.0676 - acc: 0.1080 - val_loss: 3198.1138 - val_acc: 0.1283\n",
      "Epoch 48/100\n",
      "4585/4585 [==============================] - 0s 60us/step - loss: 3228.6247 - acc: 0.1080 - val_loss: 3196.8100 - val_acc: 0.1283\n",
      "Epoch 49/100\n",
      "4585/4585 [==============================] - 0s 58us/step - loss: 3227.2744 - acc: 0.1080 - val_loss: 3195.5973 - val_acc: 0.1283\n",
      "Epoch 50/100\n",
      "4585/4585 [==============================] - 0s 60us/step - loss: 3226.0162 - acc: 0.1080 - val_loss: 3194.4585 - val_acc: 0.1283\n",
      "Epoch 51/100\n",
      "4585/4585 [==============================] - 0s 58us/step - loss: 3224.8317 - acc: 0.1080 - val_loss: 3193.3928 - val_acc: 0.1283\n",
      "Epoch 52/100\n",
      "4585/4585 [==============================] - 0s 59us/step - loss: 3223.7201 - acc: 0.1080 - val_loss: 3192.3983 - val_acc: 0.1283\n",
      "Epoch 53/100\n",
      "4585/4585 [==============================] - 0s 59us/step - loss: 3222.6802 - acc: 0.1080 - val_loss: 3191.4650 - val_acc: 0.1283\n",
      "Epoch 54/100\n",
      "4585/4585 [==============================] - 0s 58us/step - loss: 3221.7021 - acc: 0.1080 - val_loss: 3190.5941 - val_acc: 0.1283\n",
      "Epoch 55/100\n",
      "4585/4585 [==============================] - 0s 58us/step - loss: 3220.7873 - acc: 0.1080 - val_loss: 3189.7783 - val_acc: 0.1283\n",
      "Epoch 56/100\n",
      "4585/4585 [==============================] - 0s 60us/step - loss: 3219.9286 - acc: 0.1080 - val_loss: 3189.0223 - val_acc: 0.1283\n",
      "Epoch 57/100\n",
      "4585/4585 [==============================] - 0s 59us/step - loss: 3219.1297 - acc: 0.1080 - val_loss: 3188.3046 - val_acc: 0.1283\n"
     ]
    },
    {
     "name": "stdout",
     "output_type": "stream",
     "text": [
      "Epoch 58/100\n",
      "4585/4585 [==============================] - 0s 59us/step - loss: 3218.3695 - acc: 0.1080 - val_loss: 3187.6316 - val_acc: 0.1283\n",
      "Epoch 59/100\n",
      "4585/4585 [==============================] - 0s 57us/step - loss: 3217.6546 - acc: 0.1080 - val_loss: 3187.0037 - val_acc: 0.1283\n",
      "Epoch 60/100\n",
      "4585/4585 [==============================] - 0s 58us/step - loss: 3216.9857 - acc: 0.1080 - val_loss: 3186.4112 - val_acc: 0.1283\n",
      "Epoch 61/100\n",
      "4585/4585 [==============================] - 0s 58us/step - loss: 3216.3526 - acc: 0.1080 - val_loss: 3185.8608 - val_acc: 0.1283\n",
      "Epoch 62/100\n",
      "4585/4585 [==============================] - 0s 59us/step - loss: 3215.7632 - acc: 0.1080 - val_loss: 3185.3450 - val_acc: 0.1283\n",
      "Epoch 63/100\n",
      "4585/4585 [==============================] - 0s 58us/step - loss: 3215.2083 - acc: 0.1080 - val_loss: 3184.8596 - val_acc: 0.1283\n",
      "Epoch 64/100\n",
      "4585/4585 [==============================] - 0s 57us/step - loss: 3214.6850 - acc: 0.1080 - val_loss: 3184.4100 - val_acc: 0.1283\n",
      "Epoch 65/100\n",
      "4585/4585 [==============================] - 0s 58us/step - loss: 3214.1989 - acc: 0.1080 - val_loss: 3183.9821 - val_acc: 0.1283\n",
      "Epoch 66/100\n",
      "4585/4585 [==============================] - 0s 58us/step - loss: 3213.7339 - acc: 0.1080 - val_loss: 3183.5826 - val_acc: 0.1283\n",
      "Epoch 67/100\n",
      "4585/4585 [==============================] - 0s 58us/step - loss: 3213.2989 - acc: 0.1080 - val_loss: 3183.2069 - val_acc: 0.1283\n",
      "Epoch 68/100\n",
      "4585/4585 [==============================] - 0s 58us/step - loss: 3212.8882 - acc: 0.1080 - val_loss: 3182.8556 - val_acc: 0.1283\n",
      "Epoch 69/100\n",
      "4585/4585 [==============================] - 0s 57us/step - loss: 3212.5026 - acc: 0.1080 - val_loss: 3182.5252 - val_acc: 0.1283\n",
      "Epoch 70/100\n",
      "4585/4585 [==============================] - 0s 57us/step - loss: 3212.1390 - acc: 0.1080 - val_loss: 3182.2147 - val_acc: 0.1283\n",
      "Epoch 71/100\n",
      "4585/4585 [==============================] - 0s 59us/step - loss: 3211.7958 - acc: 0.1080 - val_loss: 3181.9258 - val_acc: 0.1283\n",
      "Epoch 72/100\n",
      "4585/4585 [==============================] - 0s 57us/step - loss: 3211.4749 - acc: 0.1080 - val_loss: 3181.6527 - val_acc: 0.1283\n",
      "Epoch 73/100\n",
      "4585/4585 [==============================] - 0s 57us/step - loss: 3211.1707 - acc: 0.1080 - val_loss: 3181.3966 - val_acc: 0.1283\n",
      "Epoch 74/100\n",
      "4585/4585 [==============================] - 0s 58us/step - loss: 3210.8839 - acc: 0.1080 - val_loss: 3181.1583 - val_acc: 0.1283\n",
      "Epoch 75/100\n",
      "4585/4585 [==============================] - 0s 61us/step - loss: 3210.6160 - acc: 0.1080 - val_loss: 3180.9375 - val_acc: 0.1283\n",
      "Epoch 76/100\n",
      "4585/4585 [==============================] - 0s 58us/step - loss: 3210.3672 - acc: 0.1080 - val_loss: 3180.7264 - val_acc: 0.1283\n",
      "Epoch 77/100\n",
      "4585/4585 [==============================] - 0s 58us/step - loss: 3210.1274 - acc: 0.1080 - val_loss: 3180.5279 - val_acc: 0.1283\n",
      "Epoch 78/100\n",
      "4585/4585 [==============================] - 0s 59us/step - loss: 3209.9012 - acc: 0.1080 - val_loss: 3180.3433 - val_acc: 0.1283\n",
      "Epoch 79/100\n",
      "4585/4585 [==============================] - 0s 57us/step - loss: 3209.6896 - acc: 0.1080 - val_loss: 3180.1689 - val_acc: 0.1283\n",
      "Epoch 80/100\n",
      "4585/4585 [==============================] - 0s 58us/step - loss: 3209.4888 - acc: 0.1080 - val_loss: 3180.0061 - val_acc: 0.1283\n",
      "Epoch 81/100\n",
      "4585/4585 [==============================] - 0s 58us/step - loss: 3209.3004 - acc: 0.1080 - val_loss: 3179.8519 - val_acc: 0.1283\n",
      "Epoch 82/100\n",
      "4585/4585 [==============================] - 0s 58us/step - loss: 3209.1212 - acc: 0.1080 - val_loss: 3179.7074 - val_acc: 0.1283\n",
      "Epoch 83/100\n",
      "4585/4585 [==============================] - 0s 58us/step - loss: 3208.9521 - acc: 0.1080 - val_loss: 3179.5730 - val_acc: 0.1283\n",
      "Epoch 84/100\n",
      "4585/4585 [==============================] - 0s 58us/step - loss: 3208.7936 - acc: 0.1080 - val_loss: 3179.4486 - val_acc: 0.1283\n",
      "Epoch 85/100\n",
      "4585/4585 [==============================] - 0s 58us/step - loss: 3208.6467 - acc: 0.1132 - val_loss: 3179.3310 - val_acc: 0.1878\n",
      "Epoch 86/100\n",
      "4585/4585 [==============================] - 0s 57us/step - loss: 3208.5064 - acc: 0.1647 - val_loss: 3179.2206 - val_acc: 0.1878\n",
      "Epoch 87/100\n",
      "4585/4585 [==============================] - 0s 58us/step - loss: 3208.3743 - acc: 0.1817 - val_loss: 3179.1161 - val_acc: 0.1878\n",
      "Epoch 88/100\n",
      "4585/4585 [==============================] - 0s 59us/step - loss: 3208.2482 - acc: 0.1817 - val_loss: 3179.0199 - val_acc: 0.1878\n",
      "Epoch 89/100\n",
      "4585/4585 [==============================] - 0s 58us/step - loss: 3208.1318 - acc: 0.1817 - val_loss: 3178.9288 - val_acc: 0.1878\n",
      "Epoch 90/100\n",
      "4585/4585 [==============================] - 0s 59us/step - loss: 3208.0204 - acc: 0.1817 - val_loss: 3178.8438 - val_acc: 0.1878\n",
      "Epoch 91/100\n",
      "4585/4585 [==============================] - 0s 57us/step - loss: 3207.9160 - acc: 0.1817 - val_loss: 3178.7650 - val_acc: 0.1878\n",
      "Epoch 92/100\n",
      "4585/4585 [==============================] - 0s 58us/step - loss: 3207.8184 - acc: 0.1817 - val_loss: 3178.6906 - val_acc: 0.1878\n",
      "Epoch 93/100\n",
      "4585/4585 [==============================] - 1s 112us/step - loss: 3207.7256 - acc: 0.1817 - val_loss: 3178.6199 - val_acc: 0.1878\n",
      "Epoch 94/100\n",
      "4585/4585 [==============================] - 1s 151us/step - loss: 3207.6364 - acc: 0.1817 - val_loss: 3178.5551 - val_acc: 0.1878\n",
      "Epoch 95/100\n",
      "4585/4585 [==============================] - 0s 102us/step - loss: 3207.5543 - acc: 0.1817 - val_loss: 3178.4946 - val_acc: 0.1878\n",
      "Epoch 96/100\n",
      "4585/4585 [==============================] - 0s 58us/step - loss: 3207.4771 - acc: 0.1817 - val_loss: 3178.4366 - val_acc: 0.1878\n",
      "Epoch 97/100\n",
      "4585/4585 [==============================] - 0s 64us/step - loss: 3207.4020 - acc: 0.1817 - val_loss: 3178.3834 - val_acc: 0.1878\n",
      "Epoch 98/100\n",
      "4585/4585 [==============================] - 0s 60us/step - loss: 3207.3329 - acc: 0.1817 - val_loss: 3178.3342 - val_acc: 0.1878\n",
      "Epoch 99/100\n",
      "4585/4585 [==============================] - 0s 59us/step - loss: 3207.2685 - acc: 0.1817 - val_loss: 3178.2883 - val_acc: 0.1878\n",
      "Epoch 100/100\n",
      "4585/4585 [==============================] - 0s 57us/step - loss: 3207.2079 - acc: 0.1817 - val_loss: 3178.2444 - val_acc: 0.1878\n"
     ]
    }
   ],
   "source": [
    "nb_epoch = 100\n",
    "batch_size = 32\n",
    "\n",
    "autoencoder.compile(optimizer= Adagrad(lr=0.05), \n",
    "                    loss='mean_squared_error', \n",
    "                    metrics=['accuracy'],\n",
    "                   )\n",
    "# checkpointer = ModelCheckpoint(filepath=\"model.h5\",\n",
    "#                                verbose=0,\n",
    "#                                save_best_only=True)\n",
    "# tensorboard = TensorBoard(log_dir='./logs',\n",
    "#                           histogram_freq=0,\n",
    "#                           write_graph=True,\n",
    "#                           write_images=True)\n",
    "\n",
    "history = autoencoder.fit(X_train, X_train,\n",
    "                    epochs=nb_epoch,\n",
    "                    batch_size=batch_size,\n",
    "                    shuffle=True,\n",
    "                    validation_data=(X_test, X_test)).history"
   ]
  },
  {
   "cell_type": "code",
   "execution_count": null,
   "metadata": {},
   "outputs": [],
   "source": []
  },
  {
   "cell_type": "code",
   "execution_count": 123,
   "metadata": {},
   "outputs": [
    {
     "data": {
      "text/plain": [
       "<function matplotlib.pyplot.show(*args, **kw)>"
      ]
     },
     "execution_count": 123,
     "metadata": {},
     "output_type": "execute_result"
    },
    {
     "data": {
      "image/png": "[encoded data removed]",
      "text/plain": [
       "<Figure size 432x288 with 1 Axes>"
      ]
     },
     "metadata": {},
     "output_type": "display_data"
    }
   ],
   "source": [
    "import matplotlib.pyplot as plt\n",
    "plt.plot(history['loss'])\n",
    "plt.plot(history['val_loss'])\n",
    "plt.title('model loss')\n",
    "plt.ylabel('loss')\n",
    "plt.xlabel('epoch')\n",
    "plt.legend(['train', 'test'], loc='upper right');\n",
    "plt.show"
   ]
  },
  {
   "cell_type": "code",
   "execution_count": 125,
   "metadata": {},
   "outputs": [
    {
     "data": {
      "text/html": [
       "<div>\n",
       "<style scoped>\n",
       "    .dataframe tbody tr th:only-of-type {\n",
       "        vertical-align: middle;\n",
       "    }\n",
       "\n",
       "    .dataframe tbody tr th {\n",
       "        vertical-align: top;\n",
       "    }\n",
       "\n",
       "    .dataframe thead th {\n",
       "        text-align: right;\n",
       "    }\n",
       "</style>\n",
       "<table border=\"1\" class=\"dataframe\">\n",
       "  <thead>\n",
       "    <tr style=\"text-align: right;\">\n",
       "      <th></th>\n",
       "      <th>reconstruction_error</th>\n",
       "      <th>true_class</th>\n",
       "    </tr>\n",
       "  </thead>\n",
       "  <tbody>\n",
       "    <tr>\n",
       "      <th>count</th>\n",
       "      <td>1161.000000</td>\n",
       "      <td>1161.000000</td>\n",
       "    </tr>\n",
       "    <tr>\n",
       "      <th>mean</th>\n",
       "      <td>3178.244396</td>\n",
       "      <td>0.012059</td>\n",
       "    </tr>\n",
       "    <tr>\n",
       "      <th>std</th>\n",
       "      <td>941.747156</td>\n",
       "      <td>0.109194</td>\n",
       "    </tr>\n",
       "    <tr>\n",
       "      <th>min</th>\n",
       "      <td>1645.055233</td>\n",
       "      <td>0.000000</td>\n",
       "    </tr>\n",
       "    <tr>\n",
       "      <th>25%</th>\n",
       "      <td>2342.561836</td>\n",
       "      <td>0.000000</td>\n",
       "    </tr>\n",
       "    <tr>\n",
       "      <th>50%</th>\n",
       "      <td>2998.825775</td>\n",
       "      <td>0.000000</td>\n",
       "    </tr>\n",
       "    <tr>\n",
       "      <th>75%</th>\n",
       "      <td>4035.790478</td>\n",
       "      <td>0.000000</td>\n",
       "    </tr>\n",
       "    <tr>\n",
       "      <th>max</th>\n",
       "      <td>5970.734889</td>\n",
       "      <td>1.000000</td>\n",
       "    </tr>\n",
       "  </tbody>\n",
       "</table>\n",
       "</div>"
      ],
      "text/plain": [
       "       reconstruction_error   true_class\n",
       "count           1161.000000  1161.000000\n",
       "mean            3178.244396     0.012059\n",
       "std              941.747156     0.109194\n",
       "min             1645.055233     0.000000\n",
       "25%             2342.561836     0.000000\n",
       "50%             2998.825775     0.000000\n",
       "75%             4035.790478     0.000000\n",
       "max             5970.734889     1.000000"
      ]
     },
     "execution_count": 125,
     "metadata": {},
     "output_type": "execute_result"
    }
   ],
   "source": [
    "predictions = autoencoder.predict(X_test)\n",
    "mse = np.mean(np.power(X_test - predictions, 2), axis=1)\n",
    "error_df = pd.DataFrame({'reconstruction_error': mse,\n",
    "                        'true_class': y_test})\n",
    "error_df.describe()"
   ]
  },
  {
   "cell_type": "code",
   "execution_count": 85,
   "metadata": {
    "scrolled": true
   },
   "outputs": [],
   "source": [
    "# X_train, X_test = train_test_split(df, test_size=0.2, random_state=42)\n",
    "# X_train = X_train[X_train.result == 0].drop(['result'], axis=1)\n",
    "# y_test = X_test['result']\n",
    "# X_test = X_test.drop(['result'], axis=1)\n",
    "# X_test"
   ]
  },
  {
   "cell_type": "code",
   "execution_count": 128,
   "metadata": {},
   "outputs": [
    {
     "data": {
      "text/plain": [
       "array([71.8794143 , 88.0585702 , 97.39707149, 78.61584841, 71.54177433,\n",
       "       87.45047373, 96.88458226, 78.28596038, 71.08268734, 86.72523686,\n",
       "       96.55469423, 78.21533161, 71.94315245, 88.27734711, 97.53229974,\n",
       "       78.51593454, 71.59776055, 87.67355728, 96.84065461, 78.08440999,\n",
       "       71.07149009, 86.99138674, 96.50129199, 77.80964686, 71.52713178,\n",
       "       87.88372093, 97.41429802, 78.67183463, 71.13178295, 87.42204996,\n",
       "       96.89319552, 78.23944875, 70.7588286 , 86.6709733 , 96.48320413,\n",
       "       78.12661499])"
      ]
     },
     "execution_count": 128,
     "metadata": {},
     "output_type": "execute_result"
    }
   ],
   "source": [
    "np.mean(X_test,axis = 0)"
   ]
  },
  {
   "cell_type": "code",
   "execution_count": 127,
   "metadata": {},
   "outputs": [
    {
     "data": {
      "text/plain": [
       "array([[71.68732, 87.84759, 95.2983 , ...,  0.     , 95.14016, 78.40045],\n",
       "       [71.68732, 87.84759, 95.2983 , ...,  0.     , 95.14016, 78.40045],\n",
       "       [71.68732, 87.84759, 95.2983 , ...,  0.     , 95.14016, 78.40045],\n",
       "       ...,\n",
       "       [71.68732, 87.84759, 95.2983 , ...,  0.     , 95.14016, 78.40045],\n",
       "       [71.68732, 87.84759, 95.2983 , ...,  0.     , 95.14016, 78.40045],\n",
       "       [71.68732, 87.84759, 95.2983 , ...,  0.     , 95.14015, 78.40045]],\n",
       "      dtype=float32)"
      ]
     },
     "execution_count": 127,
     "metadata": {},
     "output_type": "execute_result"
    }
   ],
   "source": [
    "predictions"
   ]
  },
  {
   "cell_type": "code",
   "execution_count": null,
   "metadata": {},
   "outputs": [],
   "source": []
  }
 ],
 "metadata": {
  "kernelspec": {
   "display_name": "Python 3",
   "language": "python",
   "name": "python3"
  },
  "language_info": {
   "codemirror_mode": {
    "name": "ipython",
    "version": 3
   },
   "file_extension": ".py",
   "mimetype": "text/x-python",
   "name": "python",
   "nbconvert_exporter": "python",
   "pygments_lexer": "ipython3",
   "version": "3.6.5"
  }
 },
 "nbformat": 4,
 "nbformat_minor": 2
}
